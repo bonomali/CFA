{
 "cells": [
  {
   "cell_type": "markdown",
   "metadata": {},
   "source": [
    "### Derivatives\n",
    "* financial instrument in which the value is based on an underlying asset\n",
    "* legal contract (buyer + seller), will be fulfilled in the future based on an asset\n",
    "* contract - asset + defined life span / expiration date\n",
    "    * long - buyer longs the position - has the right to buy\n",
    "    * seller - seller shorts the position - has the right to sell\n",
    "    * basically an insurance\n",
    "* value of contract is based on exchange rate\n",
    "* derivatives help manage risk"
   ]
  },
  {
   "cell_type": "markdown",
   "metadata": {},
   "source": [
    "![asd](pic/derivative_structure.png)"
   ]
  },
  {
   "cell_type": "markdown",
   "metadata": {},
   "source": [
    "### Exchange Traded Derivatives Market\n",
    "* exchange traded derivatives - e.g. stock futures, currency futures\n",
    "* the exchagne takes a margin\n",
    "* standardized exchange traded derivatives - all terms are fixed, but the price \n",
    "    * example: gold contract - quality: 995 fineness, contract size: 100 ounces, settlement type: physical...etc.\n",
    "* advantages of staandardization:\n",
    "    * liquidity\n",
    "    * clearing and settlement process\n",
    "        * clearing - verifies the execution of transaction and identity of participants\n",
    "        * settlement - transfers money between parties\n",
    "    * transparency - minimizes default\n",
    "    * credit guarantee - clearing house forces participants to post a margin, and uses it if there's a default\n",
    "\n",
    "### Over the Counter Derivatives Market\n",
    "* informal network of dealers, typically banks\n",
    "* customized per clients' needs\n",
    "* OTC derivatives have credit risk, either party can default"
   ]
  },
  {
   "cell_type": "markdown",
   "metadata": {},
   "source": [
    "![asd](pic/types_of_derivatives.png)"
   ]
  },
  {
   "cell_type": "markdown",
   "metadata": {},
   "source": [
    "### Forward Commitments\n",
    "* contract that requires both parties to engage in a transaction at a later point in time\n",
    "* forward contracts\n",
    "    * OTT derivative \n",
    "    * risks - one party may defaault, no money is exchanged at the start\n",
    "* futures\n",
    "    * standardized derivative contract \n",
    "    * 2 parties agree to complete a transaction - agreed-upon price is called the futures price\n",
    "    * differences with forward\n",
    "        * standardized contracts\n",
    "        * traded on a futures exchange\n",
    "        * fixed price is f in futures, but F in Forwards\n",
    "        * gains and loses are settled daily\n",
    "* swaps\n",
    "    * OTT derivative, exchange a series of cashflows based on predetermined formula\n",
    "    * e.g. interest rate swap, A pays 10% interest to B on loan X, B pays 150 basis points on HIBOR"
   ]
  },
  {
   "cell_type": "markdown",
   "metadata": {},
   "source": [
    "### Contingent Claims\n",
    "* holder has the right, but not the obligation to make a transaction\n",
    "* 3 types - options, credit derivatives, asset-backed securities\n",
    "* options\n",
    "    * futures, but no obligation\n",
    "    * buyer is long\n",
    "    * seller is short\n",
    "    * 2 types of options - European - only exercise on expiration, American - anytime before expiration\n",
    "    * call option - gives buyers the right to buy\n",
    "    * put option - gives buyers the right to sell\n",
    "* credit derivatives\n",
    "    * credit protection buyer and credit protection seller - seller provides protection against a specific credit loss\n",
    "    * main type is called credit default swaps\n",
    "    * CDs are like insurance - buy protection against defaults\n",
    "    * if borrowers default, CD seller pays CD buyer\n",
    "* asset-backed securities\n",
    "    * portfolio of debt instruemnts is assembled and claims are issued in tranches\n",
    "    * prepayments and credit losses are allocated to the most junior tranches first \n",
    "    * to add!! (pg12)\n"
   ]
  },
  {
   "cell_type": "markdown",
   "metadata": {},
   "source": [
    "### Derivative Underlyings\n",
    "* equities - stock or indices\n",
    "* fixed income instruemnts - bonds, notes\n",
    "* commodities - food..e.tc., usually futures to trade it\n",
    "* credit - e.g. CDOs, CDS"
   ]
  },
  {
   "cell_type": "markdown",
   "metadata": {},
   "source": [
    "### pros and cons of derivatives\n",
    "* pros\n",
    "    * risk allocation, transfer and mgmt\n",
    "    * information discovery\n",
    "        * reveals more than spot prices\n",
    "        * implied volatility\n",
    "    * operational adv\n",
    "        * lower transaction cost\n",
    "        * liquidity\n",
    "        * easy to take a short position"
   ]
  },
  {
   "cell_type": "markdown",
   "metadata": {},
   "source": [
    "### Elementary Principles of Derivative Pricing\n",
    "* storage - keeping something takes money, so price needs to reflect that\n",
    "* arbitrage"
   ]
  },
  {
   "cell_type": "markdown",
   "metadata": {},
   "source": []
  }
 ],
 "metadata": {
  "kernelspec": {
   "display_name": "Python 2",
   "language": "python",
   "name": "python2"
  },
  "language_info": {
   "codemirror_mode": {
    "name": "ipython",
    "version": 2
   },
   "file_extension": ".py",
   "mimetype": "text/x-python",
   "name": "python",
   "nbconvert_exporter": "python",
   "pygments_lexer": "ipython2",
   "version": "2.7.16"
  }
 },
 "nbformat": 4,
 "nbformat_minor": 2
}
