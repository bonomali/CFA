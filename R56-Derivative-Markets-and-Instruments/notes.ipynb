{
 "cells": [
  {
   "cell_type": "markdown",
   "metadata": {},
   "source": [
    "### Derivatives\n",
    "* financial instrument in which the value is based on an underlying asset\n",
    "* legal contract (buyer + seller), will be fulfilled in the future based on an asset\n",
    "* contract - asset + defined life span / expiration date\n",
    "    * long - buyer longs the position - has the right to buy\n",
    "    * seller - seller shorts the position - has the right to sell\n",
    "    * basically an insurance\n",
    "* value of contract is based on exchange rate\n",
    "* derivatives help manage risk"
   ]
  },
  {
   "cell_type": "markdown",
   "metadata": {},
   "source": [
    "![asd](pic/derivative_structure.png)"
   ]
  },
  {
   "cell_type": "markdown",
   "metadata": {},
   "source": [
    "### Exchange Traded Derivatives Market\n",
    "* exchange traded derivatives - e.g. stock futures, currency futures\n",
    "* the exchagne takes a margin\n",
    "* standardized exchange traded derivatives - all terms are fixed, but the price \n",
    "    * example: gold contract - quality: 995 fineness, contract size: 100 ounces, settlement type: physical...etc.\n",
    "* advantages of staandardization:\n",
    "    * liquidity\n",
    "    * clearing and settlement process\n",
    "        * clearing - verifies the execution of transaction and identity of participants\n",
    "        * settlement - transfers money between parties\n",
    "    * transparency - minimizes default\n",
    "    * credit guarantee - clearing house forces participants to post a margin, and uses it if there's a default\n",
    "\n",
    "### Over the Counter Derivatives Market\n",
    "* informal network of dealers, typically banks\n",
    "* customized per clients' needs\n",
    "* OTC derivatives have credit risk, either party can default"
   ]
  },
  {
   "cell_type": "markdown",
   "metadata": {},
   "source": [
    "![asd](pic/types_of_derivatives.png)"
   ]
  },
  {
   "cell_type": "markdown",
   "metadata": {},
   "source": [
    "### Forward Commitments\n",
    "* contract that requires both parties to engage in a transaction at a later point in time\n",
    "* forward contracts\n",
    "    * OTT derivative \n",
    "    * risks - one party may defaault, no money is exchanged at the start\n",
    "* futures\n",
    "    * standardized derivative contract \n",
    "    * 2 parties agree to complete a transaction - agreed-upon price is called the futures price\n",
    "    * differences with forward\n",
    "        * standardized contracts\n",
    "        * traded on a futures exchange\n",
    "        * fixed price is f in futures, but F in Forwards\n",
    "        * gains and loses are settled daily\n",
    "* swaps\n",
    "    * OTT derivative, exchange a series of cashflows based on predetermined formula\n",
    " \n",
    "(pg 9)"
   ]
  },
  {
   "cell_type": "markdown",
   "metadata": {},
   "source": []
  },
  {
   "cell_type": "markdown",
   "metadata": {},
   "source": []
  }
 ],
 "metadata": {
  "kernelspec": {
   "display_name": "Python 2",
   "language": "python",
   "name": "python2"
  },
  "language_info": {
   "codemirror_mode": {
    "name": "ipython",
    "version": 2
   },
   "file_extension": ".py",
   "mimetype": "text/x-python",
   "name": "python",
   "nbconvert_exporter": "python",
   "pygments_lexer": "ipython2",
   "version": "2.7.16"
  }
 },
 "nbformat": 4,
 "nbformat_minor": 2
}
