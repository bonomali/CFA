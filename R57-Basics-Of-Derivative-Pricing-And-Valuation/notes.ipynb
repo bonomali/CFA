{
 "cells": [
  {
   "cell_type": "markdown",
   "metadata": {},
   "source": [
    "### Pricing the Underlying\n",
    "* price of a financial asset is the expected future price plus any benefits like dividends minus cost discounted at a rate appropriate for the risk assumed\n",
    "* $E(S_T)$\n",
    "    * $S_0 = \\frac{E(S_T)}{(1 + r + \\lambda)^T} - \\theta + \\gamma$\n",
    "    * r - risk free rate\n",
    "    * $\\lambda$ risk premium\n",
    "    * $\\gamma$ any benefits for holding it\n",
    "    * $\\theta$ present value cost of holding the asset\n",
    "    * cost of carry = $\\theta - \\gamma$"
   ]
  },
  {
   "cell_type": "markdown",
   "metadata": {},
   "source": [
    "### Principles of Arbitrage\n",
    "* at time T, $S_T^A = S_T^B$\n",
    "* at time 0, $S_0^A < S_0^B$, then buy A, sell B\n",
    "* law of one price - if two assets have the same expected returns in the future, then their price should be the same today\n",
    "\n",
    "#### Arbitrage and Derivatives\n",
    "* price of a derivative is tied to the price of the underlying\n",
    "* if a price of a stock goes up, the call option goes up\n",
    "* e.g. if you are long on GOOG, but want to hedge your risk\n",
    "    * you can short the call option\n",
    "    * or buy the put option\n",
    "* derivative should be priced so that no arbitrage opportunities exist.\n",
    "    * if it earns an excess, an arbitrage opportunity is available"
   ]
  },
  {
   "cell_type": "markdown",
   "metadata": {},
   "source": [
    "#### Arbitrage and Replication\n",
    "* an asset and a derivative can be combined to produce a risk free bond\n",
    "* asset + derivative = risk free asset\n",
    "* e.g. buy stock + put option = risk free return\n",
    "* e.g. buy stock - risk free rate = short put option\n",
    "* replication is the creation of an asset or portfolio from another asset, portfolio and / or derivative\n",
    "* why replicate?\n",
    "    * lower transaction\n",
    "    * arbitrage\n"
   ]
  },
  {
   "cell_type": "markdown",
   "metadata": {},
   "source": [
    "#### Risk Aversion, Risk Neutrality, Arbitrage-free Pricing\n",
    "* risk aversion - risk premium for assuming risk\n",
    "* risk neutral pricing - there is only one price for a derivative - which combined with the asset, earn risk-free rate\n",
    "* arbitrage-free pricing - pricing derivatives by arbitrage and risk-neutrality is called arbitrage-free pricing"
   ]
  },
  {
   "cell_type": "markdown",
   "metadata": {},
   "source": [
    "### Pricing vs Valuation\n",
    "* stock price vs value\n",
    "    * price - market price\n",
    "    * value - intrinsic price (by fundamental analysis)\n",
    "* option contract price vs value\n",
    "    * price - market price\n",
    "    * value - underlyin and other options\n",
    "* forwards, futures, swaps\n",
    "    * price and value cannot be compared\n",
    "    * price of forward contract - fixed price or rate that is embedded in the contract\n",
    "    * value changes - 0 at initiation, fluctuates over T\n"
   ]
  },
  {
   "cell_type": "markdown",
   "metadata": {},
   "source": [
    "### Pricing and Valuation of Forward Commitments\n",
    "* if $S_0 = 100$, contract is to sell for 101\n",
    "* if in a month, it becoems 103, 2 ways to settle it\n",
    "    * rachel pays 101 to leo, and receives the stock\n",
    "    * leo pays rachel 2\n",
    "* there is a risk of default\n",
    "* forward price $F_0(T)$ \n",
    "* spot price $S_t$\n",
    "* value of contract $V_t(T)$\n",
    "* forward price $F_0(T) = S_0 * (1+r)^T $\n",
    "    * $T = 1/12 = 0.08333$\n",
    "    * $F_0(T) = S_0 * (1+r)^T = 100 * 1.1^{0.08333} = 101$\n",
    "* value at expiration for the long party $V_t(T) = S_T - F_0(T)$\n",
    "    * for the short party $V_t(T) = - (...)$\n",
    "    * value during the life of the contract $S_t - \\frac{F}{(1+r)^{T-t}}$\n",
    "* value of the forward contract chanes over time, but not the price, since the price does not change\n",
    "* forward contract with benefits and costs\n",
    "    * "
   ]
  },
  {
   "cell_type": "markdown",
   "metadata": {},
   "source": []
  },
  {
   "cell_type": "markdown",
   "metadata": {},
   "source": []
  },
  {
   "cell_type": "markdown",
   "metadata": {},
   "source": []
  }
 ],
 "metadata": {
  "kernelspec": {
   "display_name": "Python 2",
   "language": "python",
   "name": "python2"
  },
  "language_info": {
   "codemirror_mode": {
    "name": "ipython",
    "version": 2
   },
   "file_extension": ".py",
   "mimetype": "text/x-python",
   "name": "python",
   "nbconvert_exporter": "python",
   "pygments_lexer": "ipython2",
   "version": "2.7.16"
  }
 },
 "nbformat": 4,
 "nbformat_minor": 2
}
